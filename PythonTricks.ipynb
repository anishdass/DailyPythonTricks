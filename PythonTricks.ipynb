{
  "nbformat": 4,
  "nbformat_minor": 0,
  "metadata": {
    "colab": {
      "name": "PythonTricks",
      "provenance": [],
      "collapsed_sections": [],
      "authorship_tag": "ABX9TyOmAJZT2nYV5xXkBP5zcHSv",
      "include_colab_link": true
    },
    "kernelspec": {
      "name": "python3",
      "display_name": "Python 3"
    }
  },
  "cells": [
    {
      "cell_type": "markdown",
      "metadata": {
        "id": "view-in-github",
        "colab_type": "text"
      },
      "source": [
        "<a href=\"https://colab.research.google.com/github/anishdass/DailyPythonTricks/blob/main/PythonTricks.ipynb\" target=\"_parent\"><img src=\"https://colab.research.google.com/assets/colab-badge.svg\" alt=\"Open In Colab\"/></a>"
      ]
    },
    {
      "cell_type": "code",
      "metadata": {
        "colab": {
          "base_uri": "https://localhost:8080/"
        },
        "id": "GX8zPntXfiik",
        "outputId": "a3891273-0f5c-44ba-f15e-7306c6e9b628"
      },
      "source": [
        "x, y, z = 0, 15, 0\r\n",
        "\r\n",
        "#Checks if any one of the varible has 1 as its value\r\n",
        "if x==1 or y==1 or z==1:\r\n",
        "  print('passed1')\r\n",
        "\r\n",
        "if 1 in (x, y, z):\r\n",
        "  print('passed2')\r\n",
        "\r\n",
        "#If not 0\r\n",
        "if x or y or z:\r\n",
        "  print('passed3')\r\n",
        "\r\n",
        "if any((x, y, z)):\r\n",
        "  print('passed4')"
      ],
      "execution_count": null,
      "outputs": [
        {
          "output_type": "stream",
          "text": [
            "passed3\n",
            "passed4\n"
          ],
          "name": "stdout"
        }
      ]
    },
    {
      "cell_type": "code",
      "metadata": {
        "id": "QJjdOxLMf-eZ",
        "colab": {
          "base_uri": "https://localhost:8080/"
        },
        "outputId": "37a534a2-06f6-4c6a-f0a6-f4b15d3f28a2"
      },
      "source": [
        "#get() method on dictionary\r\n",
        "\r\n",
        "name_dict = {382:'Alice', 590:'Bob', 951:'Dilbert'}\r\n",
        "\r\n",
        "def greeting(id):\r\n",
        "  return 'Hi %s!'%name_dict.get(id, 'there')\r\n",
        "\r\n",
        "print(greeting(382))\r\n",
        "\r\n",
        "print(greeting(600))"
      ],
      "execution_count": null,
      "outputs": [
        {
          "output_type": "stream",
          "text": [
            "Hi Alice!\n",
            "Hi there!\n"
          ],
          "name": "stdout"
        }
      ]
    },
    {
      "cell_type": "code",
      "metadata": {
        "id": "yYVTO2uRkBKn",
        "colab": {
          "base_uri": "https://localhost:8080/"
        },
        "outputId": "bf0e2e96-9772-4d60-f8eb-591097984f44"
      },
      "source": [
        "from collections import namedtuple\r\n",
        "Car = namedtuple('Car', 'color mileage')\r\n",
        "\r\n",
        "\r\n",
        "my_car = Car('red', 3812.4)\r\n",
        "print(my_car.color)\r\n",
        "print(my_car.mileage)\r\n",
        "print(my_car)"
      ],
      "execution_count": null,
      "outputs": [
        {
          "output_type": "stream",
          "text": [
            "red\n",
            "3812.4\n",
            "Car(color='red', mileage=3812.4)\n"
          ],
          "name": "stdout"
        }
      ]
    },
    {
      "cell_type": "code",
      "metadata": {
        "colab": {
          "base_uri": "https://localhost:8080/"
        },
        "id": "fqSE0mWerfcf",
        "outputId": "8f9b0a41-723f-4b34-f069-e9fdae0e8db2"
      },
      "source": [
        "#Sorting the list in \r\n",
        "\r\n",
        "xs = {'a':4,'c':99,'b':3,'d':1}\r\n",
        "\r\n",
        "print(xs.items())\r\n",
        "\r\n",
        "xs_sorted = sorted(xs.items(), key=lambda x: x[1])\r\n",
        "\r\n",
        "print(xs_sorted)"
      ],
      "execution_count": null,
      "outputs": [
        {
          "output_type": "stream",
          "text": [
            "dict_items([('a', 4), ('c', 99), ('b', 3), ('d', 1)])\n",
            "[('d', 1), ('b', 3), ('a', 4), ('c', 99)]\n"
          ],
          "name": "stdout"
        }
      ]
    },
    {
      "cell_type": "code",
      "metadata": {
        "id": "H-wfWky4sVUK",
        "colab": {
          "base_uri": "https://localhost:8080/"
        },
        "outputId": "a0618a75-fbe4-406c-89e0-6486253abaa4"
      },
      "source": [
        "#Easiest way to define a dictionary\r\n",
        "\r\n",
        "a=dict(zip(('a', 'b', 'c', 'd', 'e'), (1, 2, 3, 4, 5)))\r\n",
        "a"
      ],
      "execution_count": null,
      "outputs": [
        {
          "output_type": "execute_result",
          "data": {
            "text/plain": [
              "{'a': 1, 'b': 2, 'c': 3, 'd': 4, 'e': 5}"
            ]
          },
          "metadata": {
            "tags": []
          },
          "execution_count": 2
        }
      ]
    },
    {
      "cell_type": "code",
      "metadata": {
        "id": "jjDXoNnglgeY"
      },
      "source": [
        "#Adding a file to your ide\r\n",
        "\r\n",
        "import urllib.request\r\n",
        "\r\n",
        "urllib.request.urlretrieve('https://en.wikipedia.org/wiki/Master_(2021_film)#/media', 'Master_2021_poster.jpg')"
      ],
      "execution_count": null,
      "outputs": []
    },
    {
      "cell_type": "code",
      "metadata": {
        "colab": {
          "base_uri": "https://localhost:8080/"
        },
        "id": "ptZtsE0GIUag",
        "outputId": "f18d6516-b3c8-4fd8-d8b0-e0307edfa7c4"
      },
      "source": [
        "#Merge two dictionaries\r\n",
        "\r\n",
        "x= {'a':1, 'b':2}\r\n",
        "y = {'c':3, 'd':4}\r\n",
        "z1 = {**x, **y}\r\n",
        "\r\n",
        "z2 = dict(x, **y)\r\n",
        "\r\n",
        "print(z1, z2)"
      ],
      "execution_count": null,
      "outputs": [
        {
          "output_type": "stream",
          "text": [
            "{'a': 1, 'b': 2, 'c': 3, 'd': 4} {'a': 1, 'b': 2, 'c': 3, 'd': 4}\n"
          ],
          "name": "stdout"
        }
      ]
    },
    {
      "cell_type": "code",
      "metadata": {
        "id": "DVsgxWPxouXA",
        "colab": {
          "base_uri": "https://localhost:8080/"
        },
        "outputId": "f48fb436-fb65-453d-853e-cbf388e6c220"
      },
      "source": [
        "#find difference between dates\r\n",
        "\r\n",
        "from datetime import datetime, timedelta\r\n",
        "\r\n",
        "datetime_format = '%Y-%m-%d %H:%M:%S.%f'\r\n",
        "a = datetime.strptime('2020-12-31 21:30:25.21', datetime_format)\r\n",
        "b = datetime.strptime('2021-1-1 00:00:00.00', datetime_format)\r\n",
        "diff = b-a\r\n",
        "\r\n",
        "print(diff.days)\r\n",
        "print(diff.seconds)\r\n",
        "print(diff.microseconds)"
      ],
      "execution_count": null,
      "outputs": [
        {
          "output_type": "stream",
          "text": [
            "0\n",
            "8974\n",
            "790000\n"
          ],
          "name": "stdout"
        }
      ]
    },
    {
      "cell_type": "code",
      "metadata": {
        "id": "dzTGxjkQGv7O",
        "colab": {
          "base_uri": "https://localhost:8080/"
        },
        "outputId": "ad740f4e-861b-458c-c234-d1ee38fce576"
      },
      "source": [
        "#Sorting in ascending and descending for a list and a dataframe\r\n",
        "\r\n",
        "import numpy as np\r\n",
        "import pandas as pd\r\n",
        "\r\n",
        "\r\n",
        "list1 = [82,34,23,11,334,656,200]\r\n",
        "\r\n",
        "d = {'Name': ['Anish', 'Manoj', 'Ayushman', 'Hero', 'Villain', 'Protagonist'],\r\n",
        "     'Age': [82, 34, 23, 11, 334, 200]}\r\n",
        "\r\n",
        "data = pd.DataFrame(d)\r\n",
        "\r\n",
        "list1.sort()\r\n",
        "\r\n",
        "print('list ascending: ', list1)\r\n",
        "\r\n",
        "list2 = list1\r\n",
        "list2.sort(reverse = True)\r\n",
        "\r\n",
        "print('list descending: ', list2)\r\n",
        "\r\n",
        "print('data ascending: ', np.sort(data.Age))\r\n",
        "print('data descending: ', np.sort(data.Age)[::-1])"
      ],
      "execution_count": 41,
      "outputs": [
        {
          "output_type": "stream",
          "text": [
            "list ascending:  [11, 23, 34, 82, 200, 334, 656]\n",
            "list descending:  [656, 334, 200, 82, 34, 23, 11]\n",
            "data ascending:  [ 11  23  34  82 200 334]\n",
            "data descending:  [334 200  82  34  23  11]\n"
          ],
          "name": "stdout"
        }
      ]
    }
  ]
}