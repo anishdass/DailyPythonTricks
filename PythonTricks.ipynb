{
  "nbformat": 4,
  "nbformat_minor": 0,
  "metadata": {
    "colab": {
      "name": "PythonTricks",
      "provenance": [],
      "collapsed_sections": [],
      "authorship_tag": "ABX9TyOJdoeJcVKn+Bi6rR6jLAQu"
    },
    "kernelspec": {
      "name": "python3",
      "display_name": "Python 3"
    }
  },
  "cells": [
    {
      "cell_type": "code",
      "metadata": {
        "colab": {
          "base_uri": "https://localhost:8080/"
        },
        "id": "GX8zPntXfiik",
        "outputId": "a3891273-0f5c-44ba-f15e-7306c6e9b628"
      },
      "source": [
        "x, y, z = 0, 15, 0\r\n",
        "\r\n",
        "#Checks if any one of the varible has 1 as its value\r\n",
        "if x==1 or y==1 or z==1:\r\n",
        "  print('passed1')\r\n",
        "\r\n",
        "if 1 in (x, y, z):\r\n",
        "  print('passed2')\r\n",
        "\r\n",
        "#If not 0\r\n",
        "if x or y or z:\r\n",
        "  print('passed3')\r\n",
        "\r\n",
        "if any((x, y, z)):\r\n",
        "  print('passed4')"
      ],
      "execution_count": 4,
      "outputs": [
        {
          "output_type": "stream",
          "text": [
            "passed3\n",
            "passed4\n"
          ],
          "name": "stdout"
        }
      ]
    },
    {
      "cell_type": "code",
      "metadata": {
        "id": "QJjdOxLMf-eZ",
        "colab": {
          "base_uri": "https://localhost:8080/"
        },
        "outputId": "37a534a2-06f6-4c6a-f0a6-f4b15d3f28a2"
      },
      "source": [
        "#get() method on dictionary\r\n",
        "\r\n",
        "name_dict = {382:'Alice', 590:'Bob', 951:'Dilbert'}\r\n",
        "\r\n",
        "def greeting(id):\r\n",
        "  return 'Hi %s!'%name_dict.get(id, 'there')\r\n",
        "\r\n",
        "print(greeting(382))\r\n",
        "\r\n",
        "print(greeting(600))"
      ],
      "execution_count": 3,
      "outputs": [
        {
          "output_type": "stream",
          "text": [
            "Hi Alice!\n",
            "Hi there!\n"
          ],
          "name": "stdout"
        }
      ]
    },
    {
      "cell_type": "code",
      "metadata": {
        "id": "yYVTO2uRkBKn"
      },
      "source": [
        ""
      ],
      "execution_count": null,
      "outputs": []
    }
  ]
}